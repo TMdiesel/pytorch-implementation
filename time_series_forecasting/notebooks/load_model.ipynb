{
 "cells": [
  {
   "cell_type": "markdown",
   "metadata": {},
   "source": [
    "## overview"
   ]
  },
  {
   "cell_type": "code",
   "execution_count": 1,
   "metadata": {},
   "outputs": [],
   "source": [
    "# default package\n",
    "import logging\n",
    "import sys \n",
    "import os\n",
    "import pathlib\n",
    "import IPython\n",
    "import random\n",
    "from urllib.request import urlretrieve\n",
    "import dataclasses as dc\n",
    "import tempfile"
   ]
  },
  {
   "cell_type": "code",
   "execution_count": 2,
   "metadata": {},
   "outputs": [],
   "source": [
    "# third party package\n",
    "import pandas as pd \n",
    "import numpy as np\n",
    "import matplotlib.pyplot as plt\n",
    "import seaborn\n",
    "from tqdm import tqdm\n",
    "import seaborn as sns\n",
    "import yaml\n",
    "from mlflow.tracking import MlflowClient\n",
    "from matplotlib.font_manager import FontProperties\n",
    "import matplotlib\n",
    "import sklearn.preprocessing as preprocessing\n",
    "# torch\n",
    "import torch\n",
    "import torch.nn as nn\n",
    "import torch.nn.functional as F\n",
    "import torch.optim as optim\n",
    "from torch.utils.data import DataLoader"
   ]
  },
  {
   "cell_type": "code",
   "execution_count": 3,
   "metadata": {},
   "outputs": [],
   "source": [
    "# my package\n",
    "sys.path.append(os.path.join(pathlib.Path().resolve(),\"../\"))\n",
    "import src.model.network as network\n",
    "import src.model.train as train\n",
    "import src.dataset.time_dataset as time_dataset"
   ]
  },
  {
   "cell_type": "code",
   "execution_count": 4,
   "metadata": {},
   "outputs": [],
   "source": [
    "# reload settings\n",
    "%load_ext autoreload\n",
    "%autoreload 2"
   ]
  },
  {
   "cell_type": "code",
   "execution_count": 5,
   "metadata": {},
   "outputs": [],
   "source": [
    "# logger\n",
    "logger=logging.getLogger(__name__)\n",
    "logging.basicConfig(level=logging.INFO)"
   ]
  },
  {
   "cell_type": "code",
   "execution_count": 6,
   "metadata": {},
   "outputs": [],
   "source": [
    "# graph setting\n",
    "sns.set()\n",
    "font_path = \"/usr/share/fonts/truetype/migmix/migmix-1p-regular.ttf\"\n",
    "font_prop = FontProperties(fname=font_path)\n",
    "matplotlib.rcParams[\"font.family\"] = font_prop.get_name()"
   ]
  },
  {
   "cell_type": "code",
   "execution_count": 7,
   "metadata": {},
   "outputs": [],
   "source": [
    "# gpu\n",
    "torch.cuda.is_available()\n",
    "device=torch.device(\"cuda:0\" if torch.cuda.is_available() else \"cpu\")"
   ]
  },
  {
   "cell_type": "code",
   "execution_count": 8,
   "metadata": {},
   "outputs": [
    {
     "name": "stderr",
     "output_type": "stream",
     "text": [
      "INFO:__main__:/workspaces/load_to_goal/GitHub/pytorch-implementation/time_series_forecasting\n"
     ]
    }
   ],
   "source": [
    "# chdir\n",
    "current_dir=pathlib.Path().resolve()\n",
    "if current_dir.stem==\"notebooks\":\n",
    "    os.chdir(current_dir.parent)\n",
    "logger.info(pathlib.Path().resolve())"
   ]
  },
  {
   "cell_type": "markdown",
   "metadata": {},
   "source": [
    "## load data&model"
   ]
  },
  {
   "cell_type": "code",
   "execution_count": 9,
   "metadata": {},
   "outputs": [],
   "source": [
    "# mlflow global parameter\n",
    "experiment_name=\"model01\"\n",
    "run_id=\"70e2c35c428d4892bdf25778473b5dd8\"\n",
    "tracking_uri=\"logs/mlruns\""
   ]
  },
  {
   "cell_type": "code",
   "execution_count": 10,
   "metadata": {},
   "outputs": [],
   "source": [
    "def load_data_model():\n",
    "    client = MlflowClient(tracking_uri=tracking_uri)\n",
    "    with tempfile.TemporaryDirectory() as dname:\n",
    "        config_path=client.download_artifacts(run_id,\"config.yaml\",dname)\n",
    "        with open(config_path) as f:\n",
    "            config=yaml.load(f,Loader=yaml.SafeLoader)\n",
    "            \n",
    "        # data\n",
    "        df_train=pd.read_csv(config[\"data_path\"]).iloc[:,1:]\n",
    "        df_train=df_train[5::6]\n",
    "        val_length=int(len(df_train)*config[\"val_ratio\"])\n",
    "        array_val=df_train.iloc[-val_length:].values\n",
    "        array_train=df_train.iloc[:-val_length].values\n",
    "        scaler = preprocessing.StandardScaler().fit(array_train)\n",
    "        array_train = scaler.transform(array_train)\n",
    "        array_val = scaler.transform(array_val) \n",
    "        \n",
    "        # model\n",
    "        model_path=[artifact.path for artifact \n",
    "                    in client.list_artifacts(run_id)\n",
    "                    if \"pth\" in artifact.path][0]\n",
    "        model_path=client.download_artifacts(run_id,model_path,dname)\n",
    "        net=network.LSTM(\n",
    "            input_size=array_train.shape[1],\n",
    "            hidden_size=config[\"hidden_size\"],\n",
    "            output_size=array_train.shape[1]*config[\"label_length\"],\n",
    "        )\n",
    "        model = train.TimeSeriesForecast(\n",
    "            model=net,\n",
    "            **config,\n",
    "        )\n",
    "        model.load_state_dict(torch.load(model_path))\n",
    "        model=model.to(device)\n",
    "        model.eval()\n",
    "        \n",
    "    return array_train,model"
   ]
  },
  {
   "cell_type": "code",
   "execution_count": 11,
   "metadata": {},
   "outputs": [],
   "source": [
    "array_train,model=load_data_model()"
   ]
  },
  {
   "cell_type": "code",
   "execution_count": 12,
   "metadata": {},
   "outputs": [],
   "source": [
    "td=time_dataset.TimeDataset(array_train,24,24)"
   ]
  },
  {
   "cell_type": "code",
   "execution_count": 13,
   "metadata": {},
   "outputs": [],
   "source": [
    "input=td[0][0].unsqueeze(0).to(device)\n",
    "label=td[0][1].numpy()"
   ]
  },
  {
   "cell_type": "code",
   "execution_count": 14,
   "metadata": {},
   "outputs": [],
   "source": [
    "output=model(input).view(input.shape).to(\"cpu\").detach().numpy()"
   ]
  },
  {
   "cell_type": "code",
   "execution_count": 15,
   "metadata": {},
   "outputs": [
    {
     "data": {
      "text/plain": [
       "[<matplotlib.lines.Line2D at 0x7f26ca7ddac0>]"
      ]
     },
     "execution_count": 15,
     "metadata": {},
     "output_type": "execute_result"
    },
    {
     "data": {
      "image/png": "[encoded data removed]",
      "text/plain": [
       "<Figure size 432x288 with 1 Axes>"
      ]
     },
     "metadata": {},
     "output_type": "display_data"
    }
   ],
   "source": [
    "plt.plot(list(range(24)),input.to(\"cpu\").detach().numpy()[0,:,0])\n",
    "plt.plot(list(range(24,48)),label[:,0])\n",
    "plt.plot(list(range(24,48)),output[0,:,0])"
   ]
  },
  {
   "cell_type": "code",
   "execution_count": null,
   "metadata": {},
   "outputs": [],
   "source": []
  }
 ],
 "metadata": {
  "kernelspec": {
   "display_name": "Python 3",
   "language": "python",
   "name": "python3"
  },
  "language_info": {
   "codemirror_mode": {
    "name": "ipython",
    "version": 3
   },
   "file_extension": ".py",
   "mimetype": "text/x-python",
   "name": "python",
   "nbconvert_exporter": "python",
   "pygments_lexer": "ipython3",
   "version": "3.8.7"
  }
 },
 "nbformat": 4,
 "nbformat_minor": 4
}
