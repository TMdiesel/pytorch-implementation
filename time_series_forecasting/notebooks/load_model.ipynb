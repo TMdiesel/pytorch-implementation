{
 "cells": [
  {
   "cell_type": "markdown",
   "metadata": {},
   "source": [
    "## overview"
   ]
  },
  {
   "cell_type": "code",
   "execution_count": 1,
   "metadata": {},
   "outputs": [],
   "source": [
    "# default package\n",
    "import logging\n",
    "import sys \n",
    "import os\n",
    "import pathlib\n",
    "import IPython\n",
    "import random\n",
    "from urllib.request import urlretrieve\n",
    "import dataclasses as dc\n",
    "import tempfile"
   ]
  },
  {
   "cell_type": "code",
   "execution_count": 2,
   "metadata": {},
   "outputs": [],
   "source": [
    "# third party package\n",
    "import pandas as pd \n",
    "import numpy as np\n",
    "import matplotlib.pyplot as plt\n",
    "import seaborn\n",
    "from tqdm import tqdm\n",
    "import seaborn as sns\n",
    "import yaml\n",
    "from mlflow.tracking import MlflowClient\n",
    "from matplotlib.font_manager import FontProperties\n",
    "import matplotlib\n",
    "# torch\n",
    "import torch\n",
    "import torch.nn as nn\n",
    "import torch.nn.functional as F\n",
    "import torch.optim as optim\n",
    "from torch.utils.data import DataLoader"
   ]
  },
  {
   "cell_type": "code",
   "execution_count": 5,
   "metadata": {},
   "outputs": [],
   "source": [
    "# my package\n",
    "sys.path.append(os.path.join(pathlib.Path().resolve(),\"../\"))\n",
    "import src.model.model01.image_classifier_models as icm\n",
    "import src.model.model01.image_network as image_net"
   ]
  },
  {
   "cell_type": "code",
   "execution_count": 6,
   "metadata": {},
   "outputs": [],
   "source": [
    "# reload settings\n",
    "%load_ext autoreload\n",
    "%autoreload 2"
   ]
  },
  {
   "cell_type": "code",
   "execution_count": 7,
   "metadata": {},
   "outputs": [],
   "source": [
    "# logger\n",
    "logger=logging.getLogger(__name__)\n",
    "logging.basicConfig(level=logging.INFO)"
   ]
  },
  {
   "cell_type": "code",
   "execution_count": 8,
   "metadata": {},
   "outputs": [],
   "source": [
    "# graph setting\n",
    "sns.set()\n",
    "font_path = \"/usr/share/fonts/truetype/migmix/migmix-1p-regular.ttf\"\n",
    "font_prop = FontProperties(fname=font_path)\n",
    "matplotlib.rcParams[\"font.family\"] = font_prop.get_name()"
   ]
  },
  {
   "cell_type": "code",
   "execution_count": 9,
   "metadata": {},
   "outputs": [],
   "source": [
    "# gpu\n",
    "torch.cuda.is_available()\n",
    "device=torch.device(\"cuda:0\" if torch.cuda.is_available() else \"cpu\")"
   ]
  },
  {
   "cell_type": "code",
   "execution_count": 10,
   "metadata": {},
   "outputs": [
    {
     "name": "stderr",
     "output_type": "stream",
     "text": [
      "INFO:__main__:/workspaces/load_to_goal/GitHub/pytorch-implementation/pytorch_mlflow_hydra_optuna\n"
     ]
    }
   ],
   "source": [
    "# chdir\n",
    "current_dir=pathlib.Path().resolve()\n",
    "if current_dir.stem==\"notebooks\":\n",
    "    os.chdir(current_dir.parent)\n",
    "logger.info(pathlib.Path().resolve())"
   ]
  },
  {
   "cell_type": "markdown",
   "metadata": {},
   "source": [
    "## load model"
   ]
  },
  {
   "cell_type": "code",
   "execution_count": 13,
   "metadata": {},
   "outputs": [],
   "source": [
    "# mlflow global parameter\n",
    "experiment_name=\"model01\"\n",
    "run_id=\"25a9cb491fa34b428026ba567e9f9e81\"\n",
    "tracking_uri=\"logs/mlruns\""
   ]
  },
  {
   "cell_type": "code",
   "execution_count": 14,
   "metadata": {},
   "outputs": [],
   "source": [
    "def load_model():\n",
    "    client = MlflowClient(tracking_uri=tracking_uri)\n",
    "    with tempfile.TemporaryDirectory() as dname:\n",
    "        config_path=client.download_artifacts(run_id,\"config.yaml\",dname)\n",
    "        with open(config_path) as f:\n",
    "            config=yaml.load(f,Loader=yaml.SafeLoader)\n",
    "            \n",
    "        model_path=[artifact.path for artifact \n",
    "                    in client.list_artifacts(run_id)\n",
    "                    if \"pth\" in artifact.path][0]\n",
    "        model_path=client.download_artifacts(run_id,model_path,dname)\n",
    "        model = icm.LitClassifier(\n",
    "            model=image_net.CNN(),\n",
    "            **config,\n",
    "        )\n",
    "        model.load_state_dict(torch.load(model_path))\n",
    "        model=model.to(device)\n",
    "        model.eval()\n",
    "        \n",
    "    return model"
   ]
  },
  {
   "cell_type": "code",
   "execution_count": 15,
   "metadata": {},
   "outputs": [],
   "source": [
    "model=load_model()"
   ]
  },
  {
   "cell_type": "code",
   "execution_count": 16,
   "metadata": {},
   "outputs": [
    {
     "data": {
      "text/plain": [
       "LitClassifier(\n",
       "  (model): CNN(\n",
       "    (layer1): Sequential(\n",
       "      (0): Conv2d(1, 28, kernel_size=(5, 5), stride=(1, 1))\n",
       "      (1): ReLU()\n",
       "      (2): MaxPool2d(kernel_size=2, stride=2, padding=0, dilation=1, ceil_mode=False)\n",
       "    )\n",
       "    (layer2): Sequential(\n",
       "      (0): Conv2d(28, 10, kernel_size=(2, 2), stride=(1, 1))\n",
       "      (1): ReLU()\n",
       "      (2): MaxPool2d(kernel_size=2, stride=2, padding=0, dilation=1, ceil_mode=False)\n",
       "    )\n",
       "    (dropout1): Dropout(p=0.25, inplace=False)\n",
       "    (fc1): Linear(in_features=250, out_features=18, bias=True)\n",
       "    (dropout2): Dropout(p=0.08, inplace=False)\n",
       "    (fc2): Linear(in_features=18, out_features=10, bias=True)\n",
       "  )\n",
       "  (accuracy): Accuracy()\n",
       ")"
      ]
     },
     "execution_count": 16,
     "metadata": {},
     "output_type": "execute_result"
    }
   ],
   "source": [
    "model"
   ]
  },
  {
   "cell_type": "code",
   "execution_count": null,
   "metadata": {},
   "outputs": [],
   "source": []
  }
 ],
 "metadata": {
  "kernelspec": {
   "display_name": "Python 3",
   "language": "python",
   "name": "python3"
  },
  "language_info": {
   "codemirror_mode": {
    "name": "ipython",
    "version": 3
   },
   "file_extension": ".py",
   "mimetype": "text/x-python",
   "name": "python",
   "nbconvert_exporter": "python",
   "pygments_lexer": "ipython3",
   "version": "3.8.7"
  }
 },
 "nbformat": 4,
 "nbformat_minor": 4
}
