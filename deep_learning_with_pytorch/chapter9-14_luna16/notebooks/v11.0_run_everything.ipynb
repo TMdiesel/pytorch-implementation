{
 "cells": [
  {
   "cell_type": "code",
   "execution_count": 1,
   "metadata": {},
   "outputs": [],
   "source": [
    "import datetime\n",
    "import sys\n",
    "import os \n",
    "import pathlib\n",
    "\n",
    "sys.path.append(os.path.join(pathlib.Path().resolve(),\"../src/p1ch10\"))\n",
    "sys.path.append(os.path.join(pathlib.Path().resolve(),\"../src\"))\n",
    "from util.util import importstr\n",
    "from util.logconf import logging\n",
    "log = logging.getLogger('nb')"
   ]
  },
  {
   "cell_type": "code",
   "execution_count": 2,
   "metadata": {},
   "outputs": [],
   "source": [
    "# reload settings\n",
    "%load_ext autoreload\n",
    "%autoreload 2"
   ]
  },
  {
   "cell_type": "code",
   "execution_count": 3,
   "metadata": {},
   "outputs": [],
   "source": [
    "def run(app, *argv):\n",
    "    argv = list(argv)\n",
    "    argv.insert(0, '--num-workers=4')  # <1>\n",
    "    log.info(\"Running: {}({!r}).main()\".format(app, argv))\n",
    "    \n",
    "    app_cls = importstr(*app.rsplit('.', 1))  # <2>\n",
    "    app_cls(argv).main()\n",
    "    \n",
    "    log.info(\"Finished: {}.{!r}).main()\".format(app, argv))"
   ]
  },
  {
   "cell_type": "code",
   "execution_count": 4,
   "metadata": {},
   "outputs": [],
   "source": [
    "import os\n",
    "import shutil\n",
    "\n",
    "# clean up any old data that might be around.\n",
    "# We don't call this by default because it's destructive, \n",
    "# and would waste a lot of time if it ran when nothing \n",
    "# on the application side had changed.\n",
    "def cleanCache():\n",
    "    shutil.rmtree('data-unversioned/cache')\n",
    "    os.mkdir('data-unversioned/cache')\n",
    "\n",
    "# cleanCache()"
   ]
  },
  {
   "cell_type": "code",
   "execution_count": 5,
   "metadata": {},
   "outputs": [],
   "source": [
    "training_epochs = 20\n",
    "experiment_epochs = 10\n",
    "final_epochs = 50\n",
    "\n",
    "training_epochs = 2\n",
    "experiment_epochs = 2\n",
    "final_epochs = 5\n",
    "seg_epochs = 10"
   ]
  },
  {
   "cell_type": "markdown",
   "metadata": {},
   "source": [
    "## Chapter 11"
   ]
  },
  {
   "cell_type": "code",
   "execution_count": 6,
   "metadata": {},
   "outputs": [
    {
     "name": "stderr",
     "output_type": "stream",
     "text": [
      "2021-03-07 10:44:58,626 INFO     pid:10682 nb:004:run Running: p2ch11.prepcache.LunaPrepCacheApp(['--num-workers=4']).main()\n",
      "2021-03-07 10:44:59,949 INFO     pid:10682 p2ch11.prepcache:043:main Starting LunaPrepCacheApp, Namespace(batch_size=1024, num_workers=4)\n",
      "2021-03-07 10:45:01,685 INFO     pid:10682 p2ch11.dsets:184:__init__ <p2ch11.dsets.LunaDataset object at 0x7f1979159250>: 56938 training samples\n",
      "2021-03-07 10:45:01,685 WARNING  pid:10682 util.util:219:enumerateWithEstimate Stuffing cache ----/56, starting\n",
      "2021-03-07 10:45:19,621 INFO     pid:10682 util.util:236:enumerateWithEstimate Stuffing cache    8/56, done at 2021-03-07 10:47:16, 0:02:09\n",
      "2021-03-07 10:45:46,141 INFO     pid:10682 util.util:236:enumerateWithEstimate Stuffing cache   16/56, done at 2021-03-07 10:47:42, 0:02:35\n",
      "2021-03-07 10:46:40,765 INFO     pid:10682 util.util:236:enumerateWithEstimate Stuffing cache   32/56, done at 2021-03-07 10:47:54, 0:02:47\n",
      "2021-03-07 10:47:53,440 WARNING  pid:10682 util.util:249:enumerateWithEstimate Stuffing cache ----/56, done at 2021-03-07 10:47:53\n",
      "2021-03-07 10:47:53,639 INFO     pid:10682 nb:009:run Finished: p2ch11.prepcache.LunaPrepCacheApp.['--num-workers=4']).main()\n"
     ]
    }
   ],
   "source": [
    "run('p2ch11.prepcache.LunaPrepCacheApp')"
   ]
  },
  {
   "cell_type": "code",
   "execution_count": 7,
   "metadata": {},
   "outputs": [
    {
     "name": "stderr",
     "output_type": "stream",
     "text": [
      "2021-03-07 10:48:04,673 INFO     pid:10682 nb:004:run Running: p2ch11.training.LunaTrainingApp(['--num-workers=4', '--epochs=1']).main()\n",
      "2021-03-07 10:48:05,267 INFO     pid:10682 p2ch11.training:079:initModel Using CUDA; 1 devices.\n",
      "2021-03-07 10:48:12,125 INFO     pid:10682 p2ch11.training:138:main Starting LunaTrainingApp, Namespace(batch_size=32, comment='dwlpt', epochs=1, num_workers=4, tb_prefix='p2ch11')\n",
      "2021-03-07 10:48:12,157 INFO     pid:10682 p2ch11.dsets:184:__init__ <p2ch11.dsets.LunaDataset object at 0x7f18bd2642b0>: 51244 training samples\n",
      "2021-03-07 10:48:12,161 INFO     pid:10682 p2ch11.dsets:184:__init__ <p2ch11.dsets.LunaDataset object at 0x7f18b22f8100>: 5694 validation samples\n",
      "2021-03-07 10:48:12,162 INFO     pid:10682 p2ch11.training:145:main Epoch 1 of 1, 1602/178 batches of size 32*1\n",
      "2021-03-07 10:48:12,165 WARNING  pid:10682 util.util:219:enumerateWithEstimate E1 Training ----/1602, starting\n",
      "2021-03-07 10:48:14,419 INFO     pid:10682 util.util:236:enumerateWithEstimate E1 Training   16/1602, done at 2021-03-07 10:51:22, 0:03:09\n",
      "2021-03-07 10:48:21,015 INFO     pid:10682 util.util:236:enumerateWithEstimate E1 Training   64/1602, done at 2021-03-07 10:51:46, 0:03:33\n",
      "2021-03-07 10:48:47,461 INFO     pid:10682 util.util:236:enumerateWithEstimate E1 Training  256/1602, done at 2021-03-07 10:51:51, 0:03:38\n",
      "2021-03-07 10:50:34,691 INFO     pid:10682 util.util:236:enumerateWithEstimate E1 Training 1024/1602, done at 2021-03-07 10:51:54, 0:03:41\n",
      "2021-03-07 10:51:55,586 WARNING  pid:10682 util.util:249:enumerateWithEstimate E1 Training ----/1602, done at 2021-03-07 10:51:55\n",
      "2021-03-07 10:51:56,042 INFO     pid:10682 p2ch11.training:259:logMetrics E1 LunaTrainingApp\n",
      "2021-03-07 10:51:56,080 INFO     pid:10682 p2ch11.training:289:logMetrics E1 trn      nan loss,   8.8% correct, \n",
      "2021-03-07 10:51:56,080 INFO     pid:10682 p2ch11.training:298:logMetrics E1 trn_neg  nan loss,   8.6% correct (4395 of 51135)\n",
      "2021-03-07 10:51:56,081 INFO     pid:10682 p2ch11.training:309:logMetrics E1 trn_pos  nan loss,  89.9% correct (98 of 109)\n",
      "2021-03-07 10:51:56,128 WARNING  pid:10682 util.util:219:enumerateWithEstimate E1 Validation  ----/178, starting\n",
      "2021-03-07 10:51:56,676 INFO     pid:10682 util.util:236:enumerateWithEstimate E1 Validation    16/178, done at 2021-03-07 10:51:59, 0:00:03\n",
      "2021-03-07 10:51:58,464 INFO     pid:10682 util.util:236:enumerateWithEstimate E1 Validation    64/178, done at 2021-03-07 10:52:02, 0:00:05\n",
      "2021-03-07 10:52:03,402 WARNING  pid:10682 util.util:249:enumerateWithEstimate E1 Validation  ----/178, done at 2021-03-07 10:52:03\n",
      "2021-03-07 10:52:04,058 INFO     pid:10682 p2ch11.training:259:logMetrics E1 LunaTrainingApp\n",
      "2021-03-07 10:52:04,060 INFO     pid:10682 p2ch11.training:289:logMetrics E1 val      nan loss,   0.2% correct, \n",
      "2021-03-07 10:52:04,061 INFO     pid:10682 p2ch11.training:298:logMetrics E1 val_neg  nan loss,   0.0% correct (0 of 5681)\n",
      "2021-03-07 10:52:04,062 INFO     pid:10682 p2ch11.training:309:logMetrics E1 val_pos  nan loss, 100.0% correct (13 of 13)\n",
      "2021-03-07 10:52:04,069 INFO     pid:10682 nb:009:run Finished: p2ch11.training.LunaTrainingApp.['--num-workers=4', '--epochs=1']).main()\n"
     ]
    }
   ],
   "source": [
    "run('p2ch11.training.LunaTrainingApp', '--epochs=1')"
   ]
  },
  {
   "cell_type": "code",
   "execution_count": null,
   "metadata": {},
   "outputs": [],
   "source": [
    "run('p2ch11.training.LunaTrainingApp', f'--epochs={experiment_epochs}')"
   ]
  },
  {
   "cell_type": "code",
   "execution_count": null,
   "metadata": {},
   "outputs": [],
   "source": []
  }
 ],
 "metadata": {
  "kernelspec": {
   "display_name": "Python 3",
   "language": "python",
   "name": "python3"
  },
  "language_info": {
   "codemirror_mode": {
    "name": "ipython",
    "version": 3
   },
   "file_extension": ".py",
   "mimetype": "text/x-python",
   "name": "python",
   "nbconvert_exporter": "python",
   "pygments_lexer": "ipython3",
   "version": "3.8.7"
  }
 },
 "nbformat": 4,
 "nbformat_minor": 4
}
