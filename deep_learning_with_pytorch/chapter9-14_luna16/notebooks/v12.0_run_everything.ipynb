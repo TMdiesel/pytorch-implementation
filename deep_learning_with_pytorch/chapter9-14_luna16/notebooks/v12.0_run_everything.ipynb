{
 "cells": [
  {
   "cell_type": "code",
   "execution_count": 1,
   "metadata": {},
   "outputs": [],
   "source": [
    "import datetime\n",
    "import sys\n",
    "import os \n",
    "import pathlib\n",
    "\n",
    "sys.path.append(os.path.join(pathlib.Path().resolve(),\"../src/p1ch12\"))\n",
    "sys.path.append(os.path.join(pathlib.Path().resolve(),\"../src\"))\n",
    "from util.util import importstr\n",
    "from util.logconf import logging\n",
    "log = logging.getLogger('nb')"
   ]
  },
  {
   "cell_type": "code",
   "execution_count": 2,
   "metadata": {},
   "outputs": [],
   "source": [
    "# reload settings\n",
    "%load_ext autoreload\n",
    "%autoreload 2"
   ]
  },
  {
   "cell_type": "code",
   "execution_count": 3,
   "metadata": {},
   "outputs": [],
   "source": [
    "def run(app, *argv):\n",
    "    argv = list(argv)\n",
    "    argv.insert(0, '--num-workers=4')  # <1>\n",
    "    log.info(\"Running: {}({!r}).main()\".format(app, argv))\n",
    "    \n",
    "    app_cls = importstr(*app.rsplit('.', 1))  # <2>\n",
    "    app_cls(argv).main()\n",
    "    \n",
    "    log.info(\"Finished: {}.{!r}).main()\".format(app, argv))"
   ]
  },
  {
   "cell_type": "code",
   "execution_count": 4,
   "metadata": {},
   "outputs": [],
   "source": [
    "import os\n",
    "import shutil\n",
    "\n",
    "# clean up any old data that might be around.\n",
    "# We don't call this by default because it's destructive, \n",
    "# and would waste a lot of time if it ran when nothing \n",
    "# on the application side had changed.\n",
    "def cleanCache():\n",
    "    shutil.rmtree('data-unversioned/cache')\n",
    "    os.mkdir('data-unversioned/cache')\n",
    "\n",
    "# cleanCache()"
   ]
  },
  {
   "cell_type": "code",
   "execution_count": 5,
   "metadata": {},
   "outputs": [],
   "source": [
    "training_epochs = 20\n",
    "experiment_epochs = 10\n",
    "final_epochs = 50\n",
    "\n",
    "training_epochs = 2\n",
    "experiment_epochs = 2\n",
    "final_epochs = 5\n",
    "seg_epochs = 10"
   ]
  },
  {
   "cell_type": "markdown",
   "metadata": {},
   "source": [
    "## Chapter 12"
   ]
  },
  {
   "cell_type": "code",
   "execution_count": 6,
   "metadata": {},
   "outputs": [
    {
     "name": "stderr",
     "output_type": "stream",
     "text": [
      "2021-03-07 11:23:10,213 INFO     pid:14737 nb:004:run Running: p2ch12.prepcache.LunaPrepCacheApp(['--num-workers=4']).main()\n",
      "2021-03-07 11:23:13,550 INFO     pid:14737 p2ch12.prepcache:043:main Starting LunaPrepCacheApp, Namespace(batch_size=1024, num_workers=4)\n",
      "2021-03-07 11:23:15,156 INFO     pid:14737 p2ch12.dsets:282:__init__ <p2ch12.dsets.LunaDataset object at 0x7f9c685bf0a0>: 56938 training samples, 56816 neg, 122 pos, unbalanced ratio\n",
      "2021-03-07 11:23:15,156 WARNING  pid:14737 util.util:219:enumerateWithEstimate Stuffing cache ----/56, starting\n",
      "2021-03-07 11:23:38,440 INFO     pid:14737 util.util:236:enumerateWithEstimate Stuffing cache    8/56, done at 2021-03-07 11:25:39, 0:02:13\n",
      "2021-03-07 11:24:16,863 INFO     pid:14737 util.util:236:enumerateWithEstimate Stuffing cache   16/56, done at 2021-03-07 11:26:50, 0:03:25\n",
      "2021-03-07 11:25:43,851 INFO     pid:14737 util.util:236:enumerateWithEstimate Stuffing cache   32/56, done at 2021-03-07 11:27:33, 0:04:07\n",
      "2021-03-07 11:27:16,374 WARNING  pid:14737 util.util:249:enumerateWithEstimate Stuffing cache ----/56, done at 2021-03-07 11:27:16\n",
      "2021-03-07 11:27:16,392 INFO     pid:14737 nb:009:run Finished: p2ch12.prepcache.LunaPrepCacheApp.['--num-workers=4']).main()\n"
     ]
    }
   ],
   "source": [
    "run('p2ch12.prepcache.LunaPrepCacheApp')"
   ]
  },
  {
   "cell_type": "code",
   "execution_count": 7,
   "metadata": {},
   "outputs": [
    {
     "name": "stderr",
     "output_type": "stream",
     "text": [
      "2021-03-07 11:27:16,465 INFO     pid:14737 nb:004:run Running: p2ch12.training.LunaTrainingApp(['--num-workers=4', '--epochs=1', 'unbalanced']).main()\n",
      "2021-03-07 11:27:17,031 INFO     pid:14737 p2ch12.training:127:initModel Using CUDA; 1 devices.\n",
      "2021-03-07 11:27:24,114 INFO     pid:14737 p2ch12.training:188:main Starting LunaTrainingApp, Namespace(augment_flip=False, augment_noise=False, augment_offset=False, augment_rotate=False, augment_scale=False, augmented=False, balanced=False, batch_size=32, comment='unbalanced', epochs=1, num_workers=4, tb_prefix='p2ch12')\n",
      "2021-03-07 11:27:24,153 INFO     pid:14737 p2ch12.dsets:282:__init__ <p2ch12.dsets.LunaDataset object at 0x7f9bff29f1c0>: 51244 training samples, 51135 neg, 109 pos, unbalanced ratio\n",
      "2021-03-07 11:27:24,159 INFO     pid:14737 p2ch12.dsets:282:__init__ <p2ch12.dsets.LunaDataset object at 0x7f9c0843d790>: 5694 validation samples, 5681 neg, 13 pos, unbalanced ratio\n",
      "2021-03-07 11:27:24,160 INFO     pid:14737 p2ch12.training:195:main Epoch 1 of 1, 1602/178 batches of size 32*1\n",
      "2021-03-07 11:27:24,163 WARNING  pid:14737 util.util:219:enumerateWithEstimate E1 Training ----/1602, starting\n",
      "2021-03-07 11:27:26,586 INFO     pid:14737 util.util:236:enumerateWithEstimate E1 Training   16/1602, done at 2021-03-07 11:30:40, 0:03:15\n",
      "2021-03-07 11:27:33,302 INFO     pid:14737 util.util:236:enumerateWithEstimate E1 Training   64/1602, done at 2021-03-07 11:31:02, 0:03:37\n",
      "2021-03-07 11:28:00,225 INFO     pid:14737 util.util:236:enumerateWithEstimate E1 Training  256/1602, done at 2021-03-07 11:31:07, 0:03:42\n",
      "2021-03-07 11:29:49,169 INFO     pid:14737 util.util:236:enumerateWithEstimate E1 Training 1024/1602, done at 2021-03-07 11:31:10, 0:03:45\n",
      "2021-03-07 11:31:11,315 WARNING  pid:14737 util.util:249:enumerateWithEstimate E1 Training ----/1602, done at 2021-03-07 11:31:11\n",
      "2021-03-07 11:31:11,798 INFO     pid:14737 p2ch12.training:304:logMetrics E1 LunaTrainingApp\n",
      "/workspaces/load_to_goal/GitHub/pytorch-implementation/deep_learning_with_pytorch/chapter9-14_luna16/notebooks/../src/p2ch12/training.py:339: RuntimeWarning: invalid value encountered in double_scalars\n",
      "  2 * (precision * recall) / (precision + recall)\n",
      "2021-03-07 11:31:11,838 INFO     pid:14737 p2ch12.training:341:logMetrics E1 trn      0.0188 loss,  99.8% correct, 0.0000 precision, 0.0000 recall, nan f1 score\n",
      "2021-03-07 11:31:11,839 INFO     pid:14737 p2ch12.training:353:logMetrics E1 trn_neg  0.0024 loss, 100.0% correct (51124 of 51135)\n",
      "2021-03-07 11:31:11,839 INFO     pid:14737 p2ch12.training:364:logMetrics E1 trn_pos  7.7131 loss,   0.0% correct (0 of 109)\n",
      "2021-03-07 11:31:11,870 WARNING  pid:14737 util.util:219:enumerateWithEstimate E1 Validation  ----/178, starting\n",
      "2021-03-07 11:31:12,685 INFO     pid:14737 util.util:236:enumerateWithEstimate E1 Validation    16/178, done at 2021-03-07 11:31:17, 0:00:04\n",
      "2021-03-07 11:31:14,358 INFO     pid:14737 util.util:236:enumerateWithEstimate E1 Validation    64/178, done at 2021-03-07 11:31:18, 0:00:05\n",
      "2021-03-07 11:31:19,316 WARNING  pid:14737 util.util:249:enumerateWithEstimate E1 Validation  ----/178, done at 2021-03-07 11:31:19\n",
      "2021-03-07 11:31:19,989 INFO     pid:14737 p2ch12.training:304:logMetrics E1 LunaTrainingApp\n",
      "/workspaces/load_to_goal/GitHub/pytorch-implementation/deep_learning_with_pytorch/chapter9-14_luna16/notebooks/../src/p2ch12/training.py:334: RuntimeWarning: invalid value encountered in true_divide\n",
      "  truePos_count / np.float32(truePos_count + falsePos_count)\n",
      "2021-03-07 11:31:19,991 INFO     pid:14737 p2ch12.training:341:logMetrics E1 val      0.0165 loss,  99.8% correct, nan precision, 0.0000 recall, nan f1 score\n",
      "2021-03-07 11:31:19,992 INFO     pid:14737 p2ch12.training:353:logMetrics E1 val_neg  0.0012 loss, 100.0% correct (5681 of 5681)\n",
      "2021-03-07 11:31:19,993 INFO     pid:14737 p2ch12.training:364:logMetrics E1 val_pos  6.6901 loss,   0.0% correct (0 of 13)\n",
      "2021-03-07 11:31:20,067 INFO     pid:14737 nb:009:run Finished: p2ch12.training.LunaTrainingApp.['--num-workers=4', '--epochs=1', 'unbalanced']).main()\n"
     ]
    }
   ],
   "source": [
    "run('p2ch12.training.LunaTrainingApp', '--epochs=1', 'unbalanced')"
   ]
  },
  {
   "cell_type": "code",
   "execution_count": null,
   "metadata": {},
   "outputs": [],
   "source": [
    "run('p2ch12.training.LunaTrainingApp', f'--epochs={training_epochs}', '--balanced', 'balanced')"
   ]
  },
  {
   "cell_type": "code",
   "execution_count": null,
   "metadata": {},
   "outputs": [],
   "source": [
    "run('p2ch12.training.LunaTrainingApp', f'--epochs={experiment_epochs}', '--balanced', '--augment-flip', 'flip')"
   ]
  },
  {
   "cell_type": "code",
   "execution_count": null,
   "metadata": {},
   "outputs": [],
   "source": [
    "run('p2ch12.training.LunaTrainingApp', f'--epochs={experiment_epochs}', '--balanced', '--augment-offset', 'offset')"
   ]
  },
  {
   "cell_type": "code",
   "execution_count": null,
   "metadata": {},
   "outputs": [],
   "source": [
    "run('p2ch12.training.LunaTrainingApp', f'--epochs={experiment_epochs}', '--balanced', '--augment-scale', 'scale')"
   ]
  },
  {
   "cell_type": "code",
   "execution_count": null,
   "metadata": {},
   "outputs": [],
   "source": [
    "run('p2ch12.training.LunaTrainingApp', f'--epochs={experiment_epochs}', '--balanced', '--augment-rotate', 'rotate')"
   ]
  },
  {
   "cell_type": "code",
   "execution_count": null,
   "metadata": {},
   "outputs": [],
   "source": [
    "run('p2ch12.training.LunaTrainingApp', f'--epochs={experiment_epochs}', '--balanced', '--augment-noise', 'noise')"
   ]
  },
  {
   "cell_type": "code",
   "execution_count": null,
   "metadata": {},
   "outputs": [],
   "source": [
    "run('p2ch12.training.LunaTrainingApp', f'--epochs={training_epochs}', '--balanced', '--augmented', 'fully-augmented')"
   ]
  },
  {
   "cell_type": "code",
   "execution_count": null,
   "metadata": {},
   "outputs": [],
   "source": []
  }
 ],
 "metadata": {
  "kernelspec": {
   "display_name": "Python 3",
   "language": "python",
   "name": "python3"
  },
  "language_info": {
   "codemirror_mode": {
    "name": "ipython",
    "version": 3
   },
   "file_extension": ".py",
   "mimetype": "text/x-python",
   "name": "python",
   "nbconvert_exporter": "python",
   "pygments_lexer": "ipython3",
   "version": "3.8.7"
  }
 },
 "nbformat": 4,
 "nbformat_minor": 4
}
