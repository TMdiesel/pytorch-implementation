{
 "cells": [
  {
   "cell_type": "markdown",
   "metadata": {},
   "source": [
    "## overview"
   ]
  },
  {
   "cell_type": "code",
   "execution_count": 1,
   "metadata": {},
   "outputs": [],
   "source": [
    "# default package\n",
    "import logging\n",
    "import sys \n",
    "import os\n",
    "import pathlib\n",
    "import IPython\n",
    "import random\n",
    "from urllib.request import urlretrieve"
   ]
  },
  {
   "cell_type": "code",
   "execution_count": 2,
   "metadata": {},
   "outputs": [],
   "source": [
    "# third party package\n",
    "import pandas as pd \n",
    "import numpy as np\n",
    "import matplotlib.pyplot as plt\n",
    "import seaborn\n",
    "from tqdm import tqdm\n",
    "import seaborn as sns\n",
    "# torch\n",
    "import torch\n",
    "import torch.nn as nn\n",
    "import torch.nn.functional as F\n",
    "import torch.optim as optim"
   ]
  },
  {
   "cell_type": "code",
   "execution_count": 3,
   "metadata": {},
   "outputs": [],
   "source": [
    "# my package\n",
    "sys.path.append(os.path.join(pathlib.Path().resolve(),\"../\"))"
   ]
  },
  {
   "cell_type": "code",
   "execution_count": 4,
   "metadata": {},
   "outputs": [],
   "source": [
    "# reload settings\n",
    "%load_ext autoreload\n",
    "%autoreload 2"
   ]
  },
  {
   "cell_type": "code",
   "execution_count": 5,
   "metadata": {},
   "outputs": [],
   "source": [
    "# logger\n",
    "logger=logging.getLogger(__name__)\n",
    "logging.basicConfig(level=logging.INFO)"
   ]
  },
  {
   "cell_type": "code",
   "execution_count": 6,
   "metadata": {},
   "outputs": [],
   "source": [
    "# graph setting\n",
    "sns.set()"
   ]
  },
  {
   "cell_type": "code",
   "execution_count": 7,
   "metadata": {},
   "outputs": [
    {
     "data": {
      "text/plain": [
       "True"
      ]
     },
     "execution_count": 7,
     "metadata": {},
     "output_type": "execute_result"
    }
   ],
   "source": [
    "# gpu\n",
    "torch.cuda.is_available()"
   ]
  },
  {
   "cell_type": "markdown",
   "metadata": {},
   "source": [
    "## toy data"
   ]
  },
  {
   "cell_type": "code",
   "execution_count": 8,
   "metadata": {},
   "outputs": [],
   "source": [
    "# global parameter\n",
    "DATA_DIR=\"../dlwpt-code/data/\""
   ]
  },
  {
   "cell_type": "code",
   "execution_count": 9,
   "metadata": {},
   "outputs": [],
   "source": [
    "t_c = [0.5,  14.0, 15.0, 28.0, 11.0,  8.0,  3.0, -4.0,  6.0, 13.0, 21.0]\n",
    "t_u = [35.7, 55.9, 58.2, 81.9, 56.3, 48.9, 33.9, 21.8, 48.4, 60.4, 68.4]\n",
    "t_c = torch.tensor(t_c)\n",
    "t_u = torch.tensor(t_u)\n",
    "t_un=0.1*t_u"
   ]
  },
  {
   "cell_type": "code",
   "execution_count": 10,
   "metadata": {},
   "outputs": [
    {
     "data": {
      "image/png": "[encoded data removed]",
      "text/plain": [
       "<Figure size 432x288 with 1 Axes>"
      ]
     },
     "metadata": {},
     "output_type": "display_data"
    }
   ],
   "source": [
    "plt.scatter(t_u,t_c);"
   ]
  },
  {
   "cell_type": "markdown",
   "metadata": {},
   "source": [
    "## 自動微分"
   ]
  },
  {
   "cell_type": "code",
   "execution_count": 11,
   "metadata": {},
   "outputs": [],
   "source": [
    "def model(t_u,w,b):\n",
    "    return w*t_u+b\n",
    "\n",
    "def loss_fn(t_p,t_c):\n",
    "    squared_diffs=(t_p-t_c)**2\n",
    "    return squared_diffs.mean()"
   ]
  },
  {
   "cell_type": "code",
   "execution_count": 12,
   "metadata": {},
   "outputs": [],
   "source": [
    "params=torch.tensor([1.0,0.0],requires_grad=True)"
   ]
  },
  {
   "cell_type": "code",
   "execution_count": 13,
   "metadata": {},
   "outputs": [
    {
     "data": {
      "text/plain": [
       "True"
      ]
     },
     "execution_count": 13,
     "metadata": {},
     "output_type": "execute_result"
    }
   ],
   "source": [
    "params.grad is None"
   ]
  },
  {
   "cell_type": "code",
   "execution_count": 14,
   "metadata": {},
   "outputs": [],
   "source": [
    "loss=loss_fn(model(t_u,*params),t_c)\n",
    "loss.backward()"
   ]
  },
  {
   "cell_type": "code",
   "execution_count": 15,
   "metadata": {},
   "outputs": [
    {
     "data": {
      "text/plain": [
       "tensor([4517.2969,   82.6000])"
      ]
     },
     "execution_count": 15,
     "metadata": {},
     "output_type": "execute_result"
    }
   ],
   "source": [
    "params.grad"
   ]
  },
  {
   "cell_type": "markdown",
   "metadata": {},
   "source": [
    "## 自動微分を使ってtraining"
   ]
  },
  {
   "cell_type": "code",
   "execution_count": 16,
   "metadata": {},
   "outputs": [],
   "source": [
    "def training_loop(n_epochs,learning_rate,params,t_u,t_c):\n",
    "    for epoch in range(1,n_epochs+1):\n",
    "        if params.grad is not None:\n",
    "            params.grad.zero_()\n",
    "            \n",
    "        t_p=model(t_u,*params)\n",
    "        loss=loss_fn(t_p,t_c)\n",
    "        loss.backward()\n",
    "        \n",
    "        with torch.no_grad():\n",
    "            params-=learning_rate*params.grad\n",
    "        if epoch%500==0:\n",
    "            logger.info(f\"{epoch}:{loss}\")\n",
    "    return params"
   ]
  },
  {
   "cell_type": "code",
   "execution_count": 17,
   "metadata": {},
   "outputs": [
    {
     "name": "stderr",
     "output_type": "stream",
     "text": [
      "INFO:__main__:500:7.860115051269531\n",
      "INFO:__main__:1000:3.828537940979004\n",
      "INFO:__main__:1500:3.092191219329834\n",
      "INFO:__main__:2000:2.957697868347168\n",
      "INFO:__main__:2500:2.933133840560913\n",
      "INFO:__main__:3000:2.9286484718322754\n",
      "INFO:__main__:3500:2.9278297424316406\n",
      "INFO:__main__:4000:2.9276793003082275\n",
      "INFO:__main__:4500:2.927651882171631\n",
      "INFO:__main__:5000:2.9276468753814697\n"
     ]
    },
    {
     "data": {
      "text/plain": [
       "tensor([  5.3671, -17.3012], requires_grad=True)"
      ]
     },
     "execution_count": 17,
     "metadata": {},
     "output_type": "execute_result"
    }
   ],
   "source": [
    "training_loop(5000,1e-2,\n",
    "              params=torch.tensor([1.0,0.0],requires_grad=True),\n",
    "              t_u=t_un,\n",
    "              t_c=t_c\n",
    "             )"
   ]
  },
  {
   "cell_type": "markdown",
   "metadata": {},
   "source": [
    "## optimizer"
   ]
  },
  {
   "cell_type": "code",
   "execution_count": 18,
   "metadata": {},
   "outputs": [],
   "source": [
    "params=torch.tensor([1.0,0.0],requires_grad=True)\n",
    "learning_rate=1e-5\n",
    "optimizer=optim.SGD([params],lr=learning_rate)"
   ]
  },
  {
   "cell_type": "code",
   "execution_count": 19,
   "metadata": {},
   "outputs": [
    {
     "data": {
      "text/plain": [
       "tensor([1.0008e+00, 1.0640e-04], requires_grad=True)"
      ]
     },
     "execution_count": 19,
     "metadata": {},
     "output_type": "execute_result"
    }
   ],
   "source": [
    "t_p=model(t_un,*params)\n",
    "loss=loss_fn(t_p,t_c)\n",
    "optimizer.zero_grad()\n",
    "loss.backward()\n",
    "optimizer.step()\n",
    "params"
   ]
  },
  {
   "cell_type": "code",
   "execution_count": 20,
   "metadata": {},
   "outputs": [],
   "source": [
    "def training_loop(n_epochs,optimizer,params,t_u,t_c):\n",
    "    for epoch in range(1,n_epochs+1):\n",
    "        if params.grad is not None:\n",
    "            params.grad.zero_()\n",
    "            \n",
    "        t_p=model(t_u,*params)\n",
    "        loss=loss_fn(t_p,t_c)\n",
    "        optimizer.zero_grad()\n",
    "        loss.backward()\n",
    "        optimizer.step()\n",
    "        \n",
    "        if epoch%500==0:\n",
    "            logger.info(f\"{epoch}:{loss}\")\n",
    "    return params"
   ]
  },
  {
   "cell_type": "code",
   "execution_count": 21,
   "metadata": {},
   "outputs": [
    {
     "name": "stderr",
     "output_type": "stream",
     "text": [
      "INFO:__main__:500:7.860119819641113\n",
      "INFO:__main__:1000:3.828537940979004\n",
      "INFO:__main__:1500:3.092191219329834\n",
      "INFO:__main__:2000:2.957697868347168\n",
      "INFO:__main__:2500:2.933133840560913\n",
      "INFO:__main__:3000:2.9286484718322754\n",
      "INFO:__main__:3500:2.9278297424316406\n",
      "INFO:__main__:4000:2.9276793003082275\n",
      "INFO:__main__:4500:2.927651882171631\n",
      "INFO:__main__:5000:2.9276468753814697\n"
     ]
    },
    {
     "data": {
      "text/plain": [
       "tensor([  5.3671, -17.3012], requires_grad=True)"
      ]
     },
     "execution_count": 21,
     "metadata": {},
     "output_type": "execute_result"
    }
   ],
   "source": [
    "learning_rate=1e-2\n",
    "params=torch.tensor([1.0,0.0],requires_grad=True)\n",
    "\n",
    "training_loop(\n",
    "    n_epochs=5000,\n",
    "    optimizer=optim.SGD([params],lr=learning_rate),\n",
    "    params=params,\n",
    "    t_u=t_un,\n",
    "    t_c=t_c\n",
    ")"
   ]
  },
  {
   "cell_type": "markdown",
   "metadata": {},
   "source": [
    "## 演習問題"
   ]
  },
  {
   "cell_type": "code",
   "execution_count": 22,
   "metadata": {},
   "outputs": [],
   "source": [
    "def model(t_u,w1,w2,b):\n",
    "    return w2*t_u**2+w1*t_u+b\n",
    "\n",
    "def loss_fn(t_p,t_c):\n",
    "    squared_diffs=(t_p-t_c)**2\n",
    "    return squared_diffs.mean()"
   ]
  },
  {
   "cell_type": "code",
   "execution_count": 23,
   "metadata": {},
   "outputs": [],
   "source": [
    "def training_loop(n_epochs,optimizer,params,train_t_u,train_t_c,val_t_u,val_t_c):\n",
    "    for epoch in range(1,n_epochs+1):\n",
    "        if params.grad is not None:\n",
    "            params.grad.zero_()\n",
    "        train_t_p=model(train_t_u,*params)\n",
    "        train_loss=loss_fn(train_t_p,train_t_c)\n",
    "        \n",
    "        with torch.no_grad():\n",
    "            val_t_p=model(val_t_u,*params)\n",
    "            val_loss=loss_fn(val_t_p,val_t_c)\n",
    "        \n",
    "        optimizer.zero_grad()\n",
    "        train_loss.backward()\n",
    "        optimizer.step()\n",
    "        \n",
    "        if epoch%5000==0:\n",
    "            logger.info(f\"{epoch}:{train_loss},{val_loss}\")\n",
    "    return params"
   ]
  },
  {
   "cell_type": "code",
   "execution_count": 24,
   "metadata": {},
   "outputs": [],
   "source": [
    "n_samples=t_u.shape[0]\n",
    "n_val=int(0.2*n_samples)\n",
    "shuffled_index=torch.randperm(n_samples)\n",
    "train_indices=shuffled_index[:-n_val]\n",
    "val_indices=shuffled_index[-n_val:]\n",
    "\n",
    "train_t_un=t_un[train_indices]\n",
    "train_t_c=t_c[train_indices]\n",
    "val_t_un=t_un[val_indices]\n",
    "val_t_c=t_c[val_indices]"
   ]
  },
  {
   "cell_type": "code",
   "execution_count": 25,
   "metadata": {},
   "outputs": [
    {
     "name": "stderr",
     "output_type": "stream",
     "text": [
      "INFO:__main__:5000:8.57815933227539,28.06085777282715\n",
      "INFO:__main__:10000:6.8239970207214355,24.381628036499023\n",
      "INFO:__main__:15000:5.58833122253418,21.49410057067871\n",
      "INFO:__main__:20000:4.717866897583008,19.2115478515625\n",
      "INFO:__main__:25000:4.1046319007873535,17.3948917388916\n",
      "INFO:__main__:30000:3.6725735664367676,15.939725875854492\n",
      "INFO:__main__:35000:3.368129253387451,14.767129898071289\n",
      "INFO:__main__:40000:3.1535682678222656,13.81712818145752\n",
      "INFO:__main__:45000:3.0023186206817627,13.043562889099121\n",
      "INFO:__main__:50000:2.8956589698791504,12.410772323608398\n"
     ]
    }
   ],
   "source": [
    "learning_rate=1e-5\n",
    "params=torch.tensor([1.0,0.0,0.0],requires_grad=True)\n",
    "\n",
    "params=training_loop(\n",
    "    n_epochs=50000,\n",
    "    optimizer=optim.SGD([params],lr=learning_rate),\n",
    "    params=params,\n",
    "    train_t_u=train_t_un,\n",
    "    train_t_c=train_t_c,\n",
    "    val_t_u=val_t_un,\n",
    "    val_t_c=val_t_c,\n",
    ")"
   ]
  },
  {
   "cell_type": "code",
   "execution_count": 26,
   "metadata": {},
   "outputs": [],
   "source": [
    "x=np.linspace(20,90,100)\n",
    "y=model(x*0.1,*params.detach().numpy())"
   ]
  },
  {
   "cell_type": "code",
   "execution_count": 27,
   "metadata": {},
   "outputs": [
    {
     "data": {
      "text/plain": [
       "[<matplotlib.lines.Line2D at 0x7f9985ff8970>]"
      ]
     },
     "execution_count": 27,
     "metadata": {},
     "output_type": "execute_result"
    },
    {
     "data": {
      "image/png": "[encoded data removed]",
      "text/plain": [
       "<Figure size 432x288 with 1 Axes>"
      ]
     },
     "metadata": {},
     "output_type": "display_data"
    }
   ],
   "source": [
    "plt.scatter(t_un,t_c);\n",
    "plt.plot(x*0.1,y)"
   ]
  },
  {
   "cell_type": "code",
   "execution_count": null,
   "metadata": {},
   "outputs": [],
   "source": []
  }
 ],
 "metadata": {
  "kernelspec": {
   "display_name": "Python 3",
   "language": "python",
   "name": "python3"
  },
  "language_info": {
   "codemirror_mode": {
    "name": "ipython",
    "version": 3
   },
   "file_extension": ".py",
   "mimetype": "text/x-python",
   "name": "python",
   "nbconvert_exporter": "python",
   "pygments_lexer": "ipython3",
   "version": "3.8.7"
  }
 },
 "nbformat": 4,
 "nbformat_minor": 4
}
