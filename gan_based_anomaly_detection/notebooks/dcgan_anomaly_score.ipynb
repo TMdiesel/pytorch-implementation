{
 "cells": [
  {
   "cell_type": "markdown",
   "metadata": {},
   "source": [
    "## overview"
   ]
  },
  {
   "cell_type": "code",
   "execution_count": 1,
   "metadata": {},
   "outputs": [],
   "source": [
    "# default package\n",
    "import logging\n",
    "import sys \n",
    "import os\n",
    "import pathlib\n",
    "import IPython\n",
    "import random\n",
    "from urllib.request import urlretrieve\n",
    "import dataclasses as dc\n",
    "import tempfile"
   ]
  },
  {
   "cell_type": "code",
   "execution_count": 2,
   "metadata": {},
   "outputs": [],
   "source": [
    "# third party package\n",
    "import pandas as pd \n",
    "import numpy as np\n",
    "import matplotlib.pyplot as plt\n",
    "import seaborn\n",
    "from tqdm import tqdm\n",
    "import seaborn as sns\n",
    "import yaml\n",
    "from mlflow.tracking import MlflowClient\n",
    "from matplotlib.font_manager import FontProperties\n",
    "import matplotlib\n",
    "# torch\n",
    "import torch\n",
    "import torch.nn as nn\n",
    "import torch.nn.functional as F\n",
    "import torch.optim as optim\n",
    "from torch.utils.data import DataLoader"
   ]
  },
  {
   "cell_type": "code",
   "execution_count": 3,
   "metadata": {},
   "outputs": [],
   "source": [
    "# my package\n",
    "sys.path.append(os.path.join(pathlib.Path().resolve(),\"../\"))\n",
    "import src.model.dcgan as dcgan\n",
    "import src.dataset.generate_pathlist as gp\n",
    "import src.dataset.image_dataset as dataset\n",
    "import src.model.image_generate as ig"
   ]
  },
  {
   "cell_type": "code",
   "execution_count": 4,
   "metadata": {},
   "outputs": [],
   "source": [
    "# reload settings\n",
    "%load_ext autoreload\n",
    "%autoreload 2"
   ]
  },
  {
   "cell_type": "code",
   "execution_count": 5,
   "metadata": {},
   "outputs": [],
   "source": [
    "# logger\n",
    "logger=logging.getLogger(__name__)\n",
    "logging.basicConfig(level=logging.INFO)"
   ]
  },
  {
   "cell_type": "code",
   "execution_count": 6,
   "metadata": {},
   "outputs": [],
   "source": [
    "# graph setting\n",
    "sns.set()\n",
    "font_path = \"/usr/share/fonts/truetype/migmix/migmix-1p-regular.ttf\"\n",
    "font_prop = FontProperties(fname=font_path)\n",
    "matplotlib.rcParams[\"font.family\"] = font_prop.get_name()"
   ]
  },
  {
   "cell_type": "code",
   "execution_count": 7,
   "metadata": {},
   "outputs": [],
   "source": [
    "# gpu\n",
    "torch.cuda.is_available()\n",
    "device=torch.device(\"cuda:0\" if torch.cuda.is_available() else \"cpu\")"
   ]
  },
  {
   "cell_type": "code",
   "execution_count": 8,
   "metadata": {},
   "outputs": [
    {
     "name": "stderr",
     "output_type": "stream",
     "text": [
      "INFO:__main__:/workspaces/load_to_goal/GitHub/pytorch-implementation/gan_based_anomaly_detection\n"
     ]
    }
   ],
   "source": [
    "# chdir\n",
    "current_dir=pathlib.Path().resolve()\n",
    "if current_dir.stem==\"notebooks\":\n",
    "    os.chdir(current_dir.parent)\n",
    "logger.info(pathlib.Path().resolve())"
   ]
  },
  {
   "cell_type": "markdown",
   "metadata": {},
   "source": [
    "## load model"
   ]
  },
  {
   "cell_type": "code",
   "execution_count": 9,
   "metadata": {},
   "outputs": [],
   "source": [
    "# mlflow global parameter\n",
    "experiment_name=\"experiment\"\n",
    "run_id=\"8c811f0dd3a5400f8bc3aa08c405e889\"\n",
    "tracking_uri=\"logs/mlruns\""
   ]
  },
  {
   "cell_type": "code",
   "execution_count": 10,
   "metadata": {},
   "outputs": [],
   "source": [
    "def load_model():\n",
    "    client = MlflowClient(tracking_uri=tracking_uri)\n",
    "    with tempfile.TemporaryDirectory() as dname:\n",
    "        config_path=client.download_artifacts(run_id,\"config.yml\",dname)\n",
    "        with open(config_path) as f:\n",
    "            config=yaml.load(f,Loader=yaml.SafeLoader)\n",
    "            \n",
    "        model_path=[artifact.path for artifact \n",
    "                    in client.list_artifacts(run_id)\n",
    "                    if \"pth\" in artifact.path][0]\n",
    "        model_path=client.download_artifacts(run_id,model_path,dname)\n",
    "        model = ig.GAN(\n",
    "            discriminator=dcgan.Discriminator(),\n",
    "            generator=dcgan.Generator(),\n",
    "            criterion=nn.BCEWithLogitsLoss(reduction=\"mean\"),\n",
    "            **config,\n",
    "        )\n",
    "        model.load_state_dict(torch.load(model_path))\n",
    "        model=model.to(device)\n",
    "        model.eval()\n",
    "        \n",
    "    return model"
   ]
  },
  {
   "cell_type": "code",
   "execution_count": 11,
   "metadata": {},
   "outputs": [],
   "source": [
    "model=load_model()"
   ]
  },
  {
   "cell_type": "markdown",
   "metadata": {},
   "source": [
    "## load test data"
   ]
  },
  {
   "cell_type": "code",
   "execution_count": 12,
   "metadata": {},
   "outputs": [],
   "source": [
    "# data global parameter\n",
    "test_dir=\"./data/test\"\n",
    "batch_size=2"
   ]
  },
  {
   "cell_type": "code",
   "execution_count": 13,
   "metadata": {},
   "outputs": [],
   "source": [
    "path_list=gp.make_datapath_list(test_dir)\n",
    "test_dataset=dataset.ImageDataset(path_list,dataset.BaseTransform())\n",
    "test_loader=DataLoader(test_dataset,batch_size=batch_size,shuffle=False,drop_last=True)"
   ]
  },
  {
   "cell_type": "code",
   "execution_count": 14,
   "metadata": {},
   "outputs": [],
   "source": [
    "for batch in test_loader:\n",
    "    imgs=batch"
   ]
  },
  {
   "cell_type": "code",
   "execution_count": 15,
   "metadata": {},
   "outputs": [
    {
     "data": {
      "image/png": "[encoded data removed]",
      "text/plain": [
       "<Figure size 432x288 with 2 Axes>"
      ]
     },
     "metadata": {},
     "output_type": "display_data"
    }
   ],
   "source": [
    "fig,axes=plt.subplots(1,batch_size,squeeze=False)\n",
    "for i in range(batch_size):\n",
    "    axes[0,i].imshow(imgs[i].permute(1,2,0),cmap=\"gray\")\n",
    "    axes[0,i].grid(False)"
   ]
  },
  {
   "cell_type": "code",
   "execution_count": 16,
   "metadata": {},
   "outputs": [],
   "source": [
    "imgs=imgs.to(device)"
   ]
  },
  {
   "cell_type": "markdown",
   "metadata": {},
   "source": [
    "## AnoGAN"
   ]
  },
  {
   "cell_type": "code",
   "execution_count": 17,
   "metadata": {},
   "outputs": [],
   "source": [
    "# anogan global paramter\n",
    "max_epochs=2000\n",
    "lr=1e-3\n",
    "lambda_=0.1"
   ]
  },
  {
   "cell_type": "code",
   "execution_count": 18,
   "metadata": {},
   "outputs": [],
   "source": [
    "def Anomaly_score(x, fake_img, D, Lambda=0.1):\n",
    "    \"\"\"\n",
    "    - residual_loss(テスト画像xと生成画像fake_imgのピクセルレベルの差の絶対値)\n",
    "    - discrimination_loss(テスト画像xと生成画像fake_imgの特徴量の差の絶対値)\n",
    "    \"\"\"\n",
    "\n",
    "    residual_loss = torch.abs(x-fake_img)\n",
    "    residual_loss = residual_loss.view(residual_loss.size()[0], -1)\n",
    "    residual_loss = torch.sum(residual_loss, dim=1)\n",
    "\n",
    "    _, x_feature = D(x)\n",
    "    _, G_feature = D(fake_img)\n",
    "    discrimination_loss = torch.abs(x_feature-G_feature)\n",
    "    discrimination_loss = discrimination_loss.view(\n",
    "        discrimination_loss.size()[0], -1)\n",
    "    discrimination_loss = torch.sum(discrimination_loss, dim=1)\n",
    "\n",
    "    loss_each = (1-Lambda)*residual_loss + Lambda*discrimination_loss\n",
    "    total_loss = torch.sum(loss_each)\n",
    "\n",
    "    return total_loss, loss_each, residual_loss"
   ]
  },
  {
   "cell_type": "code",
   "execution_count": 19,
   "metadata": {},
   "outputs": [],
   "source": [
    "z=torch.randn(batch_size,20,1,1).to(device)\n",
    "z.requires_grad=True\n",
    "optimizer=optim.Adam([z],lr=lr)"
   ]
  },
  {
   "cell_type": "code",
   "execution_count": 20,
   "metadata": {},
   "outputs": [
    {
     "name": "stderr",
     "output_type": "stream",
     "text": [
      "  0%|          | 4/2000 [00:00<02:12, 15.12it/s]"
     ]
    },
    {
     "name": "stdout",
     "output_type": "stream",
     "text": [
      "tensor(2876.8594, device='cuda:0', grad_fn=<SumBackward0>)\n"
     ]
    },
    {
     "name": "stderr",
     "output_type": "stream",
     "text": [
      " 50%|█████     | 1006/2000 [00:41<00:34, 28.55it/s]"
     ]
    },
    {
     "name": "stdout",
     "output_type": "stream",
     "text": [
      "tensor(1546.1587, device='cuda:0', grad_fn=<SumBackward0>)\n"
     ]
    },
    {
     "name": "stderr",
     "output_type": "stream",
     "text": [
      "100%|██████████| 2000/2000 [01:21<00:00, 24.43it/s]\n"
     ]
    }
   ],
   "source": [
    "for epoch in tqdm(range(max_epochs)):\n",
    "    fake_img=model.generator(z)\n",
    "    loss, _, _ = Anomaly_score(imgs, fake_img, model.discriminator, Lambda=0.1)\n",
    "    \n",
    "    optimizer.zero_grad()\n",
    "    loss.backward()\n",
    "    optimizer.step()\n",
    "    \n",
    "    if epoch%1000==0: print(loss)"
   ]
  },
  {
   "cell_type": "code",
   "execution_count": 21,
   "metadata": {},
   "outputs": [
    {
     "data": {
      "image/png": "[encoded data removed]",
      "text/plain": [
       "<Figure size 576x576 with 4 Axes>"
      ]
     },
     "metadata": {},
     "output_type": "display_data"
    }
   ],
   "source": [
    "model.generator.eval()\n",
    "fake_img = model.generator(z)\n",
    "\n",
    "_, loss_each, _= Anomaly_score(\n",
    "    imgs, fake_img, model.discriminator, Lambda=lambda_)\n",
    "loss_each = loss_each.cpu().detach().numpy()\n",
    "\n",
    "fig,axes=plt.subplots(2,batch_size,squeeze=False,figsize=(8,8))\n",
    "for i in range(batch_size):\n",
    "    axes[0,i].imshow(imgs[i].cpu().detach().permute(1,2,0),cmap=\"gray\")\n",
    "    axes[1,i].imshow(fake_img[i].cpu().detach().permute(1,2,0),cmap=\"gray\")\n",
    "    axes[1,i].set_title(f\"生成画像(異常度:{int(loss_each[i])})\")\n",
    "    axes[0,i].grid(False)\n",
    "    axes[1,i].grid(False)\n",
    "    axes[0,i].axis(\"off\")\n",
    "    axes[1,i].axis(\"off\")\n",
    "axes[0,0].set_title(\"元画像(異常)\")\n",
    "axes[0,1].set_title(\"元画像(正常)\");"
   ]
  },
  {
   "cell_type": "code",
   "execution_count": null,
   "metadata": {},
   "outputs": [],
   "source": []
  }
 ],
 "metadata": {
  "kernelspec": {
   "display_name": "Python 3",
   "language": "python",
   "name": "python3"
  },
  "language_info": {
   "codemirror_mode": {
    "name": "ipython",
    "version": 3
   },
   "file_extension": ".py",
   "mimetype": "text/x-python",
   "name": "python",
   "nbconvert_exporter": "python",
   "pygments_lexer": "ipython3",
   "version": "3.8.7"
  }
 },
 "nbformat": 4,
 "nbformat_minor": 4
}
